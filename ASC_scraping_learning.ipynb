{
 "cells": [
  {
   "cell_type": "code",
   "execution_count": 1,
   "metadata": {},
   "outputs": [],
   "source": [
    "# importing libraries\n",
    "from bs4 import BeautifulSoup\n",
    "import requests"
   ]
  },
  {
   "cell_type": "code",
   "execution_count": 2,
   "metadata": {},
   "outputs": [
    {
     "name": "stdout",
     "output_type": "stream",
     "text": [
      "<Response [200]>\n"
     ]
    }
   ],
   "source": [
    "# \"requests\" library is just used to request a specific information from websites\n",
    "html_text = requests.get('DELETED FOR SECURITY')\n",
    "print(html_text) # we got connection"
   ]
  },
  {
   "cell_type": "code",
   "execution_count": null,
   "metadata": {},
   "outputs": [],
   "source": [
    "html_text = requests.get('DELETED FOR SECURITY').text # .text is used to access html\n",
    "print(html_text) # now we got html code"
   ]
  },
  {
   "cell_type": "code",
   "execution_count": 20,
   "metadata": {},
   "outputs": [
    {
     "name": "stdout",
     "output_type": "stream",
     "text": [
      "[<div class=\"col-lg-8 col-7 body\">\n",
      "                                    June 06, 2024\n",
      "                                </div>, <div class=\"col-lg-8 col-7 body\">\n",
      "<p>The following website has been associated with <strong>Bit-Assets</strong>: bit-assets.com.</p>\n",
      "</div>]\n"
     ]
    }
   ],
   "source": [
    "# Creating a base soup.\n",
    "soup = BeautifulSoup(html_text, 'lxml')\n",
    "links = soup.find_all('div', class_ = 'col-lg-8 col-7 body')\n",
    "print(links)"
   ]
  },
  {
   "cell_type": "code",
   "execution_count": 18,
   "metadata": {},
   "outputs": [
    {
     "name": "stdout",
     "output_type": "stream",
     "text": [
      "\n",
      "                                    June 06, 2024\n",
      "                                \n",
      "\n",
      "The following website has been associated with Bit-Assets: bit-assets.com.\n",
      "\n"
     ]
    }
   ],
   "source": [
    "for link in links:\n",
    "    info = link.text\n",
    "    print(info)"
   ]
  },
  {
   "cell_type": "code",
   "execution_count": 23,
   "metadata": {},
   "outputs": [
    {
     "name": "stdout",
     "output_type": "stream",
     "text": [
      "bit-assets.com.\n"
     ]
    }
   ],
   "source": [
    "# URL of the webpage to scrape\n",
    "url = 'DELETED FOR SECURITY'\n",
    "\n",
    "# Fetch the HTML content using requests\n",
    "response = requests.get(url)\n",
    "html_content = response.text\n",
    "\n",
    "# Parse the HTML content using BeautifulSoup\n",
    "soup = BeautifulSoup(html_content, 'html.parser')\n",
    "\n",
    "# Find all divs with class 'row proceeding-row'\n",
    "rows = soup.find_all('div', class_='row proceeding-row')\n",
    "\n",
    "# Iterate through each row to find the one containing 'Additional information'\n",
    "for row in rows:\n",
    "    label_div = row.find('div', class_='col-lg-4 col-5 body proceeding-label')\n",
    "    if label_div and 'Additional information' in label_div.text:\n",
    "        # Find the corresponding body div\n",
    "        body_div = row.find('div', class_='col-lg-8 col-7 body')\n",
    "        if body_div:\n",
    "            # Extract the text from the <p> tag and get the link part\n",
    "            p_tag = body_div.find('p')\n",
    "            if p_tag:\n",
    "                link_text = p_tag.text.split(':')[-1].strip()\n",
    "                print(link_text)  # Output: bit-assets.com\n",
    "                break\n",
    "\n"
   ]
  }
 ],
 "metadata": {
  "kernelspec": {
   "display_name": "Python 3",
   "language": "python",
   "name": "python3"
  },
  "language_info": {
   "codemirror_mode": {
    "name": "ipython",
    "version": 3
   },
   "file_extension": ".py",
   "mimetype": "text/x-python",
   "name": "python",
   "nbconvert_exporter": "python",
   "pygments_lexer": "ipython3",
   "version": "3.11.3"
  }
 },
 "nbformat": 4,
 "nbformat_minor": 2
}
